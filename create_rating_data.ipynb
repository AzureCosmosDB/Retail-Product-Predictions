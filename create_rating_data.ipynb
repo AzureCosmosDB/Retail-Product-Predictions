{
  "cells": [
    {
      "cell_type": "markdown",
      "metadata": {},
      "source": [
        "# Create the customer ratings used in this sample.\n",
        "\n",
        "The underlying product catalog is from the .NET eShop sample on GitHub. There are no customers within it. In this notebook we will create 10000 customers and generate 20 random product ratings for each of them. We will then take the random ratings and apply weights to them by brand, product category (Type) and price to provide a more meaningful and useful dataset with which to train our prediction model."
      ]
    },
    {
      "cell_type": "code",
      "execution_count": null,
      "metadata": {},
      "outputs": [],
      "source": [
        "\n",
        "import pandas as pd\n",
        "\n",
        "# Open the product catalog and read it into a DataFrame\n",
        "json_file_path = 'catalog.json'\n",
        "df = pd.read_json(json_file_path)\n",
        "\n",
        "# Group items by 'Type' (product category). For demonstration, we'll just list the Names of the items.\n",
        "# You can customize this aggregation to include other operations like counting items, averaging prices, etc.\n",
        "grouped_items = df.groupby('Type').agg({'Name': lambda x: list(x)})\n",
        "\n",
        "print(grouped_items)\n"
      ]
    },
    {
      "cell_type": "markdown",
      "metadata": {},
      "source": [
        "## Randomly rates 5-20 products for 10000 users \n"
      ]
    },
    {
      "cell_type": "code",
      "execution_count": 13,
      "metadata": {},
      "outputs": [],
      "source": [
        "\n",
        "# Load the product catalog to get product IDs\n",
        "with open(\"./data/catalog/catalog.json\", \"r\") as file:\n",
        "    product_catalog = json.load(file)\n",
        "\n",
        "# Extract product IDs\n",
        "product_ids = [product[\"Id\"] for product in product_catalog]\n",
        "\n",
        "# Define a maximum number of products a user can rate\n",
        "max_products_per_user = 20\n",
        "\n",
        "# Assuming a max rating value\n",
        "max_rating = 10\n",
        "\n",
        "# Define the number of user IDs you want\n",
        "num_user_ids = 10001\n",
        "\n",
        "# Generate user IDs from 1 to 10001\n",
        "current_user_ids = list(range(1, num_user_ids))\n",
        "\n",
        "current_ratings = []\n",
        "# Generate new ratings while ensuring not all products are rated\n",
        "for user_id in current_user_ids:\n",
        "    # Randomly select a subset of products to rate, respecting the max_products_per_user limit\n",
        "    num_products_to_sample = np.random.randint(5,max_products_per_user)\n",
        "    products_to_rate = random.sample(product_ids, min(len(product_ids), num_products_to_sample))\n",
        "    \n",
        "    for product_id in products_to_rate:\n",
        "        product_info = next((product for product in product_catalog if product[\"Id\"] == product_id), None)\n",
        "        if product_info:  # If product found\n",
        "            new_rating = {\n",
        "                \"UserId\": user_id,\n",
        "                \"ProductId\": product_id,\n",
        "                \"Rating\": random.randint(1, max_rating)\n",
        "            }\n",
        "            current_ratings.append(new_rating)\n",
        "\n",
        "# Convert the updated data to JSON format\n",
        "json_data = json.dumps(current_ratings, indent=4)\n",
        "\n",
        "# Write the updated JSON data to a new file\n",
        "with open(\"./data/ratings/randomRatings.json\", \"w\") as file:\n",
        "    file.write(json_data)"
      ]
    },
    {
      "cell_type": "markdown",
      "metadata": {},
      "source": [
        "## Verify random ratings created"
      ]
    },
    {
      "cell_type": "code",
      "execution_count": null,
      "metadata": {},
      "outputs": [],
      "source": [
        "import json\n",
        "\n",
        "# Load the updated ratings data\n",
        "with open(\"./data/ratings/randomRatings.json\", \"r\") as file:\n",
        "    ratings = json.load(file)\n",
        "\n",
        "# Count the number of items rated by each user\n",
        "ratings_count_by_user = {}\n",
        "for rating in ratings:\n",
        "    user_id = rating[\"UserId\"]\n",
        "    if user_id in ratings_count_by_user:\n",
        "        ratings_count_by_user[user_id] += 1\n",
        "    else:\n",
        "        ratings_count_by_user[user_id] = 1\n",
        "\n",
        "total_user_ids = len(ratings_count_by_user)\n",
        "\n",
        "# Print the total number of user IDs\n",
        "print(f\"Total number of user IDs: {total_user_ids}\")\n",
        "\n",
        "for user_id, count in ratings_count_by_user.items():\n",
        "    print(f\"User ID: {user_id} has rated {count} items.\")"
      ]
    },
    {
      "cell_type": "markdown",
      "metadata": {},
      "source": [
        "## Advanced Rating system\n",
        "Now taking in random ratings and giving it a pattern based on brand/ type/ price. Storing it in a new file 'actualRating.json'\n"
      ]
    },
    {
      "cell_type": "code",
      "execution_count": 15,
      "metadata": {},
      "outputs": [],
      "source": [
        "import json\n",
        "import random\n",
        "\n",
        "# Load the current user ratings\n",
        "with open(\"./data/ratings/randomRatings.json\", \"r\") as file:\n",
        "    current_ratings = json.load(file)\n",
        "\n",
        "# Load the product catalog\n",
        "with open(\"./data/catalog/catalog.json\", \"r\") as file:\n",
        "    product_catalog = json.load(file)\n",
        "\n",
        "total_desired_ratings = 200000\n",
        "# Define preferences\n",
        "brand_preferences = {\"Daybird\": 8, \"Gravitator\": 7, \"WildRunner\": 9, \"Quester\": 6, \"B&R\": 5, \"Raptor Elite\": 7, \"Solstix\": 8, \"Grolltex\": 6, \"AirStrider\": 7, \"Green Equipment\": 9, \"Legend\": 5, \"Zephyr\": 6, \"XE\": 4}\n",
        "type_preferences = [\"Footwear\", \"Climbing\", \"Ski/boarding\", \"Bags\", \"Jackets\", \"Navigation\", \"Cycling\", \"Trekking\"]\n",
        "\n",
        "curr = range(1, 10001)\n",
        "# Simulate user preferences for product types\n",
        "user_type_preferences = {user_id: random.sample(type_preferences, k=random.randint(1, len(type_preferences))) for user_id in curr}\n",
        "\n",
        "# Normalize price to a 1-10 scale\n",
        "max_price = max(product[\"Price\"] for product in product_catalog)\n",
        "min_price = min(product[\"Price\"] for product in product_catalog)\n",
        "price_range = max_price - min_price\n",
        "\n",
        "def normalize_price(price):\n",
        "    return 1 + (((price - min_price) / price_range) * 9)\n",
        "\n",
        "# Function to calculate rating based on brand, type, and price\n",
        "def calculate_rating(user_id, product):\n",
        "    price_score = normalize_price(product[\"Price\"])\n",
        "    brand_score = brand_preferences.get(product[\"Brand\"], 5)  # Default to mid-preference\n",
        "    type_score = 10 if product[\"Type\"] in user_type_preferences[user_id] else 5\n",
        "    # Weighted average of the scores\n",
        "    return (price_score * 0.4 + brand_score * 0.3 + type_score * 0.3)\n",
        "\n",
        "current = []\n",
        "# Generate new ratings considering user preferences\n",
        "for i in current_ratings:\n",
        "        user_id  = i[\"UserId\"]\n",
        "        product= product_catalog[i[\"ProductId\"]-1]\n",
        "        # Calculate new rating based on sophisticated algorithm\n",
        "        rating = calculate_rating(user_id, product)\n",
        "        new_rating = {\n",
        "            \"UserId\": user_id,\n",
        "            \"ProductId\": product[\"Id\"],\n",
        "            \"Rating\": round(rating, 2)  # Rounded for readability\n",
        "        }\n",
        "        current.append(new_rating)\n",
        "\n",
        "\n",
        "# Convert the updated data to JSON format\n",
        "json_data = json.dumps(current, indent=4)\n",
        "\n",
        "with open(\"./data/ratings/actualRatings.json\", \"w\") as file:\n",
        "    file.write(json_data)"
      ]
    }
  ],
  "metadata": {
    "kernel_info": {
      "name": "python38-azureml"
    },
    "kernelspec": {
      "display_name": "Python 3.8 - AzureML",
      "language": "python",
      "name": "python38-azureml"
    },
    "microsoft": {
      "ms_spell_check": {
        "ms_spell_check_language": "en"
      }
    },
    "nteract": {
      "version": "nteract-front-end@1.0.0"
    }
  },
  "nbformat": 4,
  "nbformat_minor": 2
}

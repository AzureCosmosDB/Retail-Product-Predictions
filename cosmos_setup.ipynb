{
 "cells": [
  {
   "cell_type": "code",
   "execution_count": null,
   "metadata": {},
   "outputs": [],
   "source": [
    "! pip install azure-cosmos\n",
    "! pip install azure-core\n",
    "! pip install python-dotenv\n",
    "! pip install aiohttp"
   ]
  },
  {
   "cell_type": "code",
   "execution_count": 1,
   "metadata": {},
   "outputs": [],
   "source": [
    "#Cosmos DB imports\n",
    "from azure.cosmos.aio import CosmosClient\n",
    "from azure.cosmos import PartitionKey\n",
    "from azure.cosmos import ThroughputProperties\n",
    "\n",
    "import json\n",
    "from dotenv import dotenv_values\n",
    "from uuid import uuid4 as GUID\n",
    "\n",
    "import asyncio\n"
   ]
  },
  {
   "cell_type": "code",
   "execution_count": 2,
   "metadata": {},
   "outputs": [],
   "source": [
    "env_name = \"myconfig.env\" \n",
    "config = dotenv_values(env_name)\n",
    "\n",
    "# Cosmos Client\n",
    "cosmos_endpoint = config['cosmos_endpoint']\n",
    "cosmos_key = config['cosmos_key']\n",
    "database_name = config['cosmos_database']\n",
    "actual_ratings_name = config['cosmos_actual_ratings']\n",
    "predicted_ratings_name = config['cosmos_predicted_ratings']\n",
    "product_catalog_name = config['cosmos_product_catalog']\n",
    "\n",
    "cosmos_client = CosmosClient(cosmos_endpoint, cosmos_key)\n"
   ]
  },
  {
   "cell_type": "code",
   "execution_count": 3,
   "metadata": {},
   "outputs": [],
   "source": [
    "async def create_collections():\n",
    "    \n",
    "    # Drop the database to recreate from scratch\n",
    "    # await cosmos_client.delete_database(database_name)\n",
    "\n",
    "    # Database\n",
    "    database = await cosmos_client.create_database_if_not_exists(id=database_name)\n",
    "\n",
    "    # Ratings Data Collections\n",
    "    await database.create_container_if_not_exists(\n",
    "        id=actual_ratings_name, \n",
    "        partition_key=PartitionKey(path=\"/UserId\"),\n",
    "        offer_throughput=ThroughputProperties(auto_scale_max_throughput=50000))\n",
    "\n",
    "    await database.create_container_if_not_exists(\n",
    "        id=predicted_ratings_name, \n",
    "        partition_key=PartitionKey(path=\"/UserId\"),\n",
    "        offer_throughput=ThroughputProperties(auto_scale_max_throughput=4000))\n",
    "\n",
    "\n",
    "    # Product Catalog Collection\n",
    "    # Define the vector policy for the collection\n",
    "    vector_embedding_policy = {\n",
    "        \"vectorEmbeddings\": [\n",
    "            {\n",
    "                \"path\":\"/Embedding\",\n",
    "                \"dataType\":\"float32\",\n",
    "                \"distanceFunction\":\"cosine\",\n",
    "                \"dimensions\":1536\n",
    "            }\n",
    "        ]\n",
    "    }\n",
    "\n",
    "    # Define the indexing policy for the collection\n",
    "    indexing_policy = {\n",
    "        \"includedPaths\": [\n",
    "            {\n",
    "                \"path\": \"/*\"\n",
    "            }\n",
    "        ],\n",
    "        \"excludedPaths\": [\n",
    "            {\n",
    "                \"path\": \"/\\\"_etag\\\"/?\"\n",
    "            }\n",
    "        ],\n",
    "        \"vectorIndexes\": [\n",
    "            {\"path\": \"/Embedding\",\n",
    "            \"type\": \"quantizedFlat\"\n",
    "            }\n",
    "        ]\n",
    "    }\n",
    "\n",
    "    # Create the product catalog collection\n",
    "    await database.create_container_if_not_exists(\n",
    "        id=product_catalog_name,\n",
    "        partition_key=PartitionKey(path='/id', kind='Hash'),\n",
    "        indexing_policy=indexing_policy,\n",
    "        vector_embedding_policy=vector_embedding_policy,\n",
    "        offer_throughput=ThroughputProperties(auto_scale_max_throughput=4000))\n",
    "\n",
    "await create_collections()"
   ]
  },
  {
   "cell_type": "code",
   "execution_count": 5,
   "metadata": {},
   "outputs": [
    {
     "name": "stdout",
     "output_type": "stream",
     "text": [
      "Number of products added: 101\n"
     ]
    }
   ],
   "source": [
    "async def load_product_catalog():\n",
    "    # Load the product catalog data\n",
    "    with open(file=\"./data/catalog/catalog.json\", mode=\"r\") as data_file:\n",
    "        data = json.load(data_file)\n",
    "\n",
    "    database = cosmos_client.get_database_client(database_name)\n",
    "    product_catalog_container = database.get_container_client(product_catalog_name)\n",
    "    \n",
    "    i=0\n",
    "    # Insert the data into the Product Collection\n",
    "    for item in data:\n",
    "        i+=1\n",
    "        # Copy the Id to id, is also partition key  \n",
    "        item['id'] = str(item['Id'])\n",
    "        await product_catalog_container.create_item(item)\n",
    "\n",
    "    print(f\"Number of products added: {i}\")\n",
    "\n",
    "\n",
    "await load_product_catalog()"
   ]
  },
  {
   "cell_type": "code",
   "execution_count": 1,
   "metadata": {},
   "outputs": [],
   "source": [
    "async def load_actual_ratings():\n",
    "    # Load the customer ratings\n",
    "    with open(file=\"./data/ratings/actualRatings.json\", mode=\"r\") as data_file:\n",
    "        data = json.load(data_file)\n",
    "\n",
    "    database = cosmos_client.get_database_client(database_name)\n",
    "    actual_ratings_container = database.get_container_client(actual_ratings_name)\n",
    "\n",
    "    i=0\n",
    "    # Insert the data into the actual ratings Collection\n",
    "    for item in data:\n",
    "        i+=1\n",
    "        # Add a unique id to the item   \n",
    "        item['id'] = str(GUID())\n",
    "        await actual_ratings_container.create_item(item)\n",
    "\n",
    "    print(f\"Number of customer ratings added: {i}\")\n",
    "\n",
    "# Not necessary to load the actual ratings into container\n",
    "# await load_actual_ratings()"
   ]
  }
 ],
 "metadata": {
  "kernelspec": {
   "display_name": "Python 3",
   "language": "python",
   "name": "python3"
  },
  "language_info": {
   "codemirror_mode": {
    "name": "ipython",
    "version": 3
   },
   "file_extension": ".py",
   "mimetype": "text/x-python",
   "name": "python",
   "nbconvert_exporter": "python",
   "pygments_lexer": "ipython3",
   "version": "3.11.9"
  }
 },
 "nbformat": 4,
 "nbformat_minor": 2
}

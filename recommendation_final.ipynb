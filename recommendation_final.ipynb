{
  "cells": [
    {
      "cell_type": "code",
      "execution_count": null,
      "metadata": {
        "jupyter": {
          "outputs_hidden": false,
          "source_hidden": false
        },
        "nteract": {
          "transient": {
            "deleting": false
          }
        }
      },
      "outputs": [],
      "source": [
        "! pip install numpy\n",
        "! pip install openai==1.2.3\n",
        "! pip install pymongo\n",
        "! pip install python-dotenv\n",
        "! pip install tenacity"
      ]
    },
    {
      "cell_type": "markdown",
      "metadata": {},
      "source": [
        "## Set up"
      ]
    },
    {
      "cell_type": "code",
      "execution_count": 35,
      "metadata": {
        "gather": {
          "logged": 1712007427712
        },
        "jupyter": {
          "outputs_hidden": false,
          "source_hidden": false
        },
        "nteract": {
          "transient": {
            "deleting": false
          }
        }
      },
      "outputs": [],
      "source": [
        "import json\n",
        "import openai\n",
        "import pymongo\n",
        "\n",
        "from dotenv import dotenv_values\n",
        "from openai import AzureOpenAI\n",
        "\n",
        "env_name = \"myconfig.env\" \n",
        "config = dotenv_values(env_name)\n",
        "\n",
        "\n",
        "# Connection string\n",
        "cosmos_conn = config['cosmos_connection_string']\n",
        "cosmos_client = pymongo.MongoClient(cosmos_conn)\n",
        "\n",
        "# Database name\n",
        "DATABASE_NAME = \"ProductRecommendation\"\n",
        "db = cosmos_client[DATABASE_NAME]\n",
        "\n",
        "# Collection names\n",
        "actual_ratings = db[\"ActualRating\"]\n",
        "predicted_ratings = db[\"PredictedRating\"]\n",
        "product_catalog = db['ProductCollection']\n",
        "\n",
        "\n",
        "openai.api_type = config['openai_type']\n",
        "openai.api_key = config['openai_api_key']\n",
        "openai.api_base = config['openai_api_endpoint']\n",
        "openai.api_version = config['openai_api_version']\n",
        "\n",
        "client = AzureOpenAI(\n",
        "    api_key=openai.api_key,\n",
        "    api_version=openai.api_version,\n",
        "    azure_endpoint = openai.api_base\n",
        ")"
      ]
    },
    {
      "cell_type": "code",
      "execution_count": 106,
      "metadata": {
        "gather": {
          "logged": 1711055304916
        },
        "jupyter": {
          "outputs_hidden": false,
          "source_hidden": false
        },
        "nteract": {
          "transient": {
            "deleting": false
          }
        }
      },
      "outputs": [],
      "source": [
        "def generate_embeddings(text):\n",
        "    try:\n",
        "        response = client.embeddings.create(\n",
        "            input=text, model=\"embeddings\") # need to read from config\n",
        "        \n",
        "        embeddings = response.data[0].embedding\n",
        "        \n",
        "        return embeddings\n",
        "    except Exception as e:\n",
        "        print(f\"An error occurred: {e}\")\n",
        "        return None"
      ]
    },
    {
      "cell_type": "markdown",
      "metadata": {},
      "source": [
        "## Product Recommendation Functions"
      ]
    },
    {
      "cell_type": "code",
      "execution_count": 112,
      "metadata": {},
      "outputs": [],
      "source": [
        "def predictions_from_current_product_page(user_id, current_product_id, num_results=3):\n",
        "    \"\"\"\n",
        "    This function recommends similar products predicted for this user excluding the current product.\n",
        "    \"\"\"\n",
        "    \n",
        "    # Get the predicted products for the user, limit results\n",
        "    user_predicted_products = predicted_ratings.find_one( \n",
        "        { \"UserId\": user_id },\n",
        "        {\"Predictions\": {\"$slice\": num_results}})\n",
        "\n",
        "    # Filter out the current product if exists and return a list of product ids\n",
        "    product_ids = [prediction['ProductId'] for prediction in user_predicted_products['Predictions'] \n",
        "        if prediction['ProductId'] != current_product_id]\n",
        "    \n",
        "    predicted_products = []\n",
        "\n",
        "    # Look up recommended products maintaining order of product_ids as these are in descending order of predicted ratings\n",
        "    for product_id in product_ids:\n",
        "        product = product_catalog.find_one({\"Id\": product_id})\n",
        "        if product:\n",
        "            predicted_products.append(product)\n",
        "\n",
        "    predicted_products = list(predicted_products)\n",
        "\n",
        "    return predicted_products"
      ]
    },
    {
      "cell_type": "code",
      "execution_count": 38,
      "metadata": {},
      "outputs": [],
      "source": [
        "def predictions_from_vector_search(user_id, user_query, num_results=10):\n",
        "    \"\"\" \n",
        "    This function takes a user prompt search for products and returns products that are predicted for the user. \n",
        "    \"\"\"\n",
        "    \n",
        "    # Generate the embedding for the user query\n",
        "    query_embedding = generate_embeddings(user_query)\n",
        "\n",
        "    # Get the predicted products for the user\n",
        "    predicted_products = predicted_ratings.find_one( { \"UserId\": user_id } )\n",
        "\n",
        "    # Extract the ProductId from the Predictions array\n",
        "    product_ids = [prediction['ProductId'] for prediction in predicted_products['Predictions']]\n",
        "\n",
        "    # Filter criteria to include predicted products\n",
        "    filter_criteria = { \n",
        "        \"Id\": {\"$in\": product_ids}\n",
        "    }\n",
        "\n",
        "    results = product_catalog.aggregate([\n",
        "        {\n",
        "            '$search': {\n",
        "                \"cosmosSearch\": {\n",
        "                    \"vector\": query_embedding,\n",
        "                    \"path\": \"Embedding\",\n",
        "                    \"k\": num_results,\n",
        "                    \"filter\": filter_criteria\n",
        "                },\n",
        "                \"returnStoredSource\": True\n",
        "            }},\n",
        "        {'$project': { 'similarityScore': { '$meta': 'searchScore' }, 'document' : '$$ROOT' }\n",
        "    }])\n",
        "\n",
        "    predicted_products = list(results)\n",
        "\n",
        "    return predicted_products"
      ]
    },
    {
      "cell_type": "code",
      "execution_count": 115,
      "metadata": {},
      "outputs": [
        {
          "name": "stdout",
          "output_type": "stream",
          "text": [
            "---------Vector Search Results: --------\n",
            "92: Shaun White Powder Groomer - 449.99\n",
            "73: Omni-Snow Dual Snowboard - 289.99\n",
            "43: Glacier Frost Snowboard - 419.99\n",
            "32: Cosmic Purple Snowboard - 419.99\n",
            "12: Powder Pro Snowboard - 399.0\n",
            "62: Shadow Black Snowboard - 379.0\n",
            "22: Venture 2022 Snowboard - 499.0\n",
            "72: GravityZone All-Mountain Skis - 699.0\n",
            "82: Maverick Pro Ski Goggles - 139.99\n",
            "42: Gravity 5000 All-Mountain Skis - 699.0\n",
            "\n",
            "--------Current Page Results: ---------\n",
            "42: Gravity 5000 All-Mountain Skis - 699.0\n",
            "72: GravityZone All-Mountain Skis - 699.0\n",
            "22: Venture 2022 Snowboard - 499.0\n",
            "62: Shadow Black Snowboard - 379.0\n",
            "32: Cosmic Purple Snowboard - 419.99\n",
            "73: Omni-Snow Dual Snowboard - 289.99\n",
            "12: Powder Pro Snowboard - 399.0\n",
            "43: Glacier Frost Snowboard - 419.99\n",
            "69: Expedition 200 GPS Navigator - 299.0\n"
          ]
        }
      ],
      "source": [
        "# actual_user_ids = [144, 496, 189, 232, 194, 950, 370, 980, 190, 404, 737, 959, 142, 795, 121, 743, 307, 365, 30, 726, 339, 536]\n",
        "# snowboards product_ids = 73, 5, 92, 83, 43, 12, 53, 62, 22\n",
        "user_query = \"I want snowboard like an olympic champion.\"\n",
        "user_id = '189'\n",
        "user_id = int(user_id)\n",
        "product_id = int(92) # Shaun White snowboard\n",
        "num_results = 10\n",
        "\n",
        "print(\"---------Vector Search Results: --------\")\n",
        "vector_search_with_predictions = predictions_from_vector_search(user_id, user_query, num_results)\n",
        "\n",
        "for product in vector_search_with_predictions:\n",
        "    print(f\"{product['document']['Id']}: {product['document']['Name']} - {product['document']['Price']}\")\n",
        "\n",
        "\n",
        "print(\"\\n--------Current Page Results: ---------\")\n",
        "on_page_predictions = predictions_from_current_product_page(user_id, product_id, num_results)\n",
        "\n",
        "for product in on_page_predictions:\n",
        "    print(f\"{product['Id']}: {product['Name']} - {product['Price']}\")\n",
        "\n"
      ]
    },
    {
      "cell_type": "markdown",
      "metadata": {
        "nteract": {
          "transient": {
            "deleting": false
          }
        }
      },
      "source": []
    }
  ],
  "metadata": {
    "kernel_info": {
      "name": "python38-azureml"
    },
    "kernelspec": {
      "display_name": "Python 3",
      "language": "python",
      "name": "python3"
    },
    "language_info": {
      "codemirror_mode": {
        "name": "ipython",
        "version": 3
      },
      "file_extension": ".py",
      "mimetype": "text/x-python",
      "name": "python",
      "nbconvert_exporter": "python",
      "pygments_lexer": "ipython3",
      "version": "3.11.9"
    },
    "microsoft": {
      "host": {
        "AzureML": {
          "notebookHasBeenCompleted": true
        }
      },
      "ms_spell_check": {
        "ms_spell_check_language": "en"
      }
    },
    "nteract": {
      "version": "nteract-front-end@1.0.0"
    }
  },
  "nbformat": 4,
  "nbformat_minor": 2
}

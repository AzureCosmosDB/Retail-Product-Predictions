{
  "cells": [
    {
      "cell_type": "code",
      "execution_count": null,
      "metadata": {
        "jupyter": {
          "outputs_hidden": false,
          "source_hidden": false
        },
        "nteract": {
          "transient": {
            "deleting": false
          }
        }
      },
      "outputs": [],
      "source": [
        "! pip install numpy\n",
        "! pip install openai==1.2.3\n",
        "! pip install pymongo\n",
        "! pip install python-dotenv\n",
        "! pip install prettytable"
      ]
    },
    {
      "cell_type": "markdown",
      "metadata": {},
      "source": [
        "## Set up"
      ]
    },
    {
      "cell_type": "code",
      "execution_count": 162,
      "metadata": {
        "gather": {
          "logged": 1712007427712
        },
        "jupyter": {
          "outputs_hidden": false,
          "source_hidden": false
        },
        "nteract": {
          "transient": {
            "deleting": false
          }
        }
      },
      "outputs": [],
      "source": [
        "from prettytable import PrettyTable\n",
        "import openai\n",
        "import pymongo\n",
        "\n",
        "from dotenv import dotenv_values\n",
        "from openai import AzureOpenAI\n",
        "\n",
        "env_name = \"myconfig.env\" \n",
        "config = dotenv_values(env_name)\n",
        "\n",
        "# Values for the two prediction functions\n",
        "user_query = \"Snowboards used by Olympic champions\"\n",
        "user_id = int(189)\n",
        "product_id = int(92) # Shaun White snowboard\n",
        "num_results = 10\n",
        "\n",
        "\n",
        "# Connection string\n",
        "cosmos_conn = config['cosmos_connection_string']\n",
        "cosmos_client = pymongo.MongoClient(cosmos_conn)\n",
        "\n",
        "# Database name\n",
        "database = cosmos_client[config['cosmos_database']]\n",
        "\n",
        "# Collection names\n",
        "actual_ratings = database[config['cosmos_actual_ratings']]\n",
        "predicted_ratings = database[config['cosmos_predicted_ratings']]\n",
        "product_catalog = database[config['cosmos_product_catalog']]\n",
        "\n",
        "# OpenAI\n",
        "openai.api_type = config['openai_type']\n",
        "openai.api_key = config['openai_api_key']\n",
        "openai.api_base = config['openai_api_endpoint']\n",
        "openai.api_version = config['openai_api_version']\n",
        "\n",
        "client = AzureOpenAI(\n",
        "    api_key=openai.api_key,\n",
        "    api_version=openai.api_version,\n",
        "    azure_endpoint = openai.api_base\n",
        ")"
      ]
    },
    {
      "cell_type": "code",
      "execution_count": 139,
      "metadata": {
        "gather": {
          "logged": 1711055304916
        },
        "jupyter": {
          "outputs_hidden": false,
          "source_hidden": false
        },
        "nteract": {
          "transient": {
            "deleting": false
          }
        }
      },
      "outputs": [],
      "source": [
        "def generate_embeddings(text):\n",
        "    \n",
        "    response = client.embeddings.create(\n",
        "        input=text, model=\"embeddings\") # need to read from config\n",
        "    \n",
        "    embeddings = response.data[0].embedding\n",
        "        \n",
        "    return embeddings"
      ]
    },
    {
      "cell_type": "code",
      "execution_count": 163,
      "metadata": {},
      "outputs": [],
      "source": [
        "def print_vector_search_results(results):\n",
        "    \n",
        "    print(\"---------Vector Search Results: --------\")\n",
        "\n",
        "    # Define the table\n",
        "    table = PrettyTable()\n",
        "    table.field_names = [\"Product Id\", \"Name\", \"Price\", \"Similarity Score\", \"Rating\"]\n",
        "\n",
        "    # Add rows to the table\n",
        "    for product in results:\n",
        "        table.add_row([\n",
        "            product['document']['Id'],\n",
        "            product['document']['Name'],\n",
        "            product['document']['Price'],\n",
        "            product['similarityScore'],\n",
        "            product['document']['rating']\n",
        "        ])\n",
        "\n",
        "    # Print the table\n",
        "    print(table)"
      ]
    },
    {
      "cell_type": "code",
      "execution_count": 166,
      "metadata": {},
      "outputs": [],
      "source": [
        "def print_predictions_from_product_page(results):\n",
        "    print(\"\\n--------Current Page Results: ---------\")\n",
        "\n",
        "    # Define the table\n",
        "    table = PrettyTable()\n",
        "    table.field_names = [\"Product Id\", \"Name\", \"Price\", \"Rating\"]\n",
        "\n",
        "    # Add rows to the table\n",
        "    for product in results:\n",
        "        table.add_row([\n",
        "            product['Id'],\n",
        "            product['Name'],\n",
        "            product['Price'],\n",
        "            product['Rating']\n",
        "        ])\n",
        "\n",
        "    # Print the table\n",
        "    print(table)"
      ]
    },
    {
      "cell_type": "markdown",
      "metadata": {},
      "source": [
        "## Product Recommendation Functions"
      ]
    },
    {
      "cell_type": "code",
      "execution_count": 176,
      "metadata": {},
      "outputs": [],
      "source": [
        "def predictions_from_current_product_page(user_id, current_product_id, num_results=4):\n",
        "    \"\"\"\n",
        "    This function displays predicted products for this user excluding the current product.\n",
        "    \"\"\"\n",
        "    \n",
        "    # Get the predicted products for the user, limit results\n",
        "    user_predicted_products = predicted_ratings.find_one( \n",
        "        { \"UserId\": user_id },\n",
        "        {\"Predictions\": {\"$slice\": num_results}})\n",
        "\n",
        "    # Remove the current product from the list\n",
        "    user_predicted_products = [prediction for prediction in user_predicted_products['Predictions']\n",
        "        if prediction['ProductId'] != current_product_id]\n",
        "    \n",
        "    predicted_products = []\n",
        "\n",
        "    # Look up recommended products maintaining order of predicted ratings\n",
        "    for item in user_predicted_products:\n",
        "        product = product_catalog.find_one({\"Id\": item['ProductId']})\n",
        "        if product:\n",
        "            predicted_products.append(product)\n",
        "            predicted_products[-1]['Rating'] = item['rating']\n",
        "\n",
        "    predicted_products = list(predicted_products)\n",
        "\n",
        "    return predicted_products"
      ]
    },
    {
      "cell_type": "code",
      "execution_count": 175,
      "metadata": {},
      "outputs": [
        {
          "name": "stdout",
          "output_type": "stream",
          "text": [
            "\n",
            "--------Current Page Results: ---------\n",
            "+------------+--------------------------------+--------+-------------------+\n",
            "| Product Id |              Name              | Price  |       Rating      |\n",
            "+------------+--------------------------------+--------+-------------------+\n",
            "|     42     | Gravity 5000 All-Mountain Skis | 699.0  |  7.15698766708374 |\n",
            "|     72     | GravityZone All-Mountain Skis  | 699.0  | 7.150111198425293 |\n",
            "|     22     |     Venture 2022 Snowboard     | 499.0  | 6.249397277832031 |\n",
            "|     62     |     Shadow Black Snowboard     | 379.0  | 5.958791732788086 |\n",
            "|     27     |  EcoLodge 45L Travel Backpack  | 129.0  | 5.905089378356934 |\n",
            "|     88     |   Alpine AlpinePack Backpack   | 129.0  | 5.895949363708496 |\n",
            "|     32     |    Cosmic Purple Snowboard     | 419.99 | 5.894195079803467 |\n",
            "|     53     |     Raven Swift Snowboard      | 349.0  | 5.818643569946289 |\n",
            "|     73     |    Omni-Snow Dual Snowboard    | 289.99 | 5.817547798156738 |\n",
            "+------------+--------------------------------+--------+-------------------+\n"
          ]
        }
      ],
      "source": [
        "# Test the Function above on predictions excluding the current product on page\n",
        "user_id = int(189)\n",
        "product_id = int(92) # Shaun White snowboard\n",
        "num_results = 10\n",
        "\n",
        "# Predictions excluding the current product on page\n",
        "on_page_predictions = predictions_from_current_product_page(user_id, product_id, num_results)\n",
        "print_predictions_from_product_page(on_page_predictions)\n"
      ]
    },
    {
      "cell_type": "code",
      "execution_count": 192,
      "metadata": {},
      "outputs": [],
      "source": [
        "def predictions_from_vector_search(user_id, user_query, num_results=10):\n",
        "    \"\"\" \n",
        "    This function takes a user prompt search for products and returns products that are predicted for the user. \n",
        "    \"\"\"\n",
        "    \n",
        "    # Generate the embedding for the user query\n",
        "    query_embedding = generate_embeddings(user_query)\n",
        "\n",
        "    # Get the predicted products for the user\n",
        "    predicted_products = predicted_ratings.find_one( { \"UserId\": user_id } )\n",
        "\n",
        "    # Convert to a dictionary\n",
        "    predicted_products = {prediction['ProductId']: prediction for prediction in predicted_products['Predictions']}\n",
        "\n",
        "    # Filter criteria to include product ids from the predicted products\n",
        "    filter_criteria = { \n",
        "        \"Id\": {\"$in\": list(predicted_products.keys())}\n",
        "    }\n",
        "\n",
        "    results = product_catalog.aggregate([\n",
        "        {\n",
        "            '$search': {\n",
        "                \"cosmosSearch\": {\n",
        "                    \"vector\": query_embedding,\n",
        "                    \"path\": \"Embedding\",\n",
        "                    \"k\": num_results,\n",
        "                    \"filter\": filter_criteria\n",
        "                },\n",
        "                \"returnStoredSource\": True\n",
        "            }},\n",
        "        {\n",
        "            '$project': { 'similarityScore': { '$meta': 'searchScore' }, 'document' : '$$ROOT' }\n",
        "        }\n",
        "    ])\n",
        "\n",
        "    filtered_vector_search = list(results)\n",
        "\n",
        "    # Add the Rating field to the documents in filtered_vector_search\n",
        "    for document in filtered_vector_search:\n",
        "        product_id = document['document']['Id']\n",
        "        if product_id in predicted_products:\n",
        "            document['document']['rating'] = predicted_products[product_id]['rating']\n",
        "\n",
        "    # Assuming filtered_vector_search is the list you want to extract from\n",
        "    top_vector_result = filtered_vector_search.pop(0)\n",
        "    \n",
        "    # Sort the remaining results by rating\n",
        "    sorted_vector_search = sorted(\n",
        "        filtered_vector_search,\n",
        "        key=lambda document: (-document['document'].get('rating', 0)),\n",
        "        reverse=False\n",
        "    )\n",
        "\n",
        "    # Insert the top result at the beginning of the list\n",
        "    sorted_vector_search.insert(0, top_vector_result)\n",
        "\n",
        "    return sorted_vector_search"
      ]
    },
    {
      "cell_type": "code",
      "execution_count": 193,
      "metadata": {},
      "outputs": [
        {
          "name": "stdout",
          "output_type": "stream",
          "text": [
            "---------Vector Search Results: --------\n",
            "+------------+------------------------------+--------+--------------------+--------------------+\n",
            "| Product Id |             Name             | Price  |  Similarity Score  |       Rating       |\n",
            "+------------+------------------------------+--------+--------------------+--------------------+\n",
            "|     92     |  Shaun White Powder Groomer  | 449.99 | 0.8480039834976196 | 6.024456977844238  |\n",
            "|     22     |    Venture 2022 Snowboard    | 499.0  | 0.8239901485466837 | 5.9668755531311035 |\n",
            "|     62     |    Shadow Black Snowboard    | 379.0  | 0.8160758261703205 | 5.747269630432129  |\n",
            "|     32     |   Cosmic Purple Snowboard    | 419.99 | 0.8276490959702903 | 5.633471965789795  |\n",
            "|     53     |    Raven Swift Snowboard     | 349.0  | 0.8259191409301261 | 5.577742099761963  |\n",
            "|     73     |   Omni-Snow Dual Snowboard   | 289.99 | 0.8393915199870792 | 5.572394847869873  |\n",
            "|     60     | SummitRider Snowboard Boots  | 249.0  | 0.8236519484105107 | 5.377709865570068  |\n",
            "|     83     | Blizzard Freestyle Snowboard | 379.0  | 0.8307854129756718 |  5.24691104888916  |\n",
            "|     43     |   Glacier Frost Snowboard    | 419.99 | 0.8423815871704585 | 5.140812397003174  |\n",
            "|     5      |   Blizzard Rider Snowboard   | 299.99 | 0.8239789218927773 | 4.581834316253662  |\n",
            "+------------+------------------------------+--------+--------------------+--------------------+\n"
          ]
        }
      ],
      "source": [
        "# Test the function above for filtering vector search results with predicted products\n",
        "\n",
        "user_query = \"Snowboards used by Olympic champions\"\n",
        "user_id = int(189)\n",
        "num_results = 10\n",
        "\n",
        "# Vector Search with Predictions\n",
        "vector_search_with_predictions = predictions_from_vector_search(user_id, user_query, num_results)\n",
        "print_vector_search_results(vector_search_with_predictions)\n"
      ]
    },
    {
      "cell_type": "markdown",
      "metadata": {
        "nteract": {
          "transient": {
            "deleting": false
          }
        }
      },
      "source": []
    }
  ],
  "metadata": {
    "kernel_info": {
      "name": "python38-azureml"
    },
    "kernelspec": {
      "display_name": "Python 3",
      "language": "python",
      "name": "python3"
    },
    "language_info": {
      "codemirror_mode": {
        "name": "ipython",
        "version": 3
      },
      "file_extension": ".py",
      "mimetype": "text/x-python",
      "name": "python",
      "nbconvert_exporter": "python",
      "pygments_lexer": "ipython3",
      "version": "3.11.9"
    },
    "microsoft": {
      "host": {
        "AzureML": {
          "notebookHasBeenCompleted": true
        }
      },
      "ms_spell_check": {
        "ms_spell_check_language": "en"
      }
    },
    "nteract": {
      "version": "nteract-front-end@1.0.0"
    }
  },
  "nbformat": 4,
  "nbformat_minor": 2
}

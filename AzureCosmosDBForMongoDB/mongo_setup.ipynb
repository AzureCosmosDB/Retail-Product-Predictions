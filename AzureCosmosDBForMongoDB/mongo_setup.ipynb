{
 "cells": [
  {
   "cell_type": "code",
   "execution_count": null,
   "metadata": {},
   "outputs": [],
   "source": [
    "! pip install pymongo\n",
    "! pip install python-dotenv"
   ]
  },
  {
   "cell_type": "code",
   "execution_count": 1,
   "metadata": {},
   "outputs": [],
   "source": [
    "import pymongo  \n",
    "import json\n",
    "from dotenv import dotenv_values"
   ]
  },
  {
   "cell_type": "code",
   "execution_count": 2,
   "metadata": {},
   "outputs": [
    {
     "name": "stdout",
     "output_type": "stream",
     "text": [
      "Using existing collection: 'ProductCollection'.\n",
      "Using existing collection: 'ActualRating'.\n",
      "Using existing collection: 'PredictedRating'.\n"
     ]
    }
   ],
   "source": [
    "env_name = \"myconfig.env\" \n",
    "config = dotenv_values(env_name)\n",
    "\n",
    "# Connection string\n",
    "cosmos_conn = config['cosmos_mongo_connection_string']\n",
    "cosmos_client = pymongo.MongoClient(cosmos_conn)\n",
    "\n",
    "# Database name\n",
    "database = cosmos_client[config['cosmos_database']]\n",
    "\n",
    "# Collection names\n",
    "actual_ratings = database[config['cosmos_actual_ratings']]\n",
    "predicted_ratings = database[config['cosmos_predicted_ratings']]\n",
    "product_catalog = database[config['cosmos_product_collection']]\n",
    "\n",
    "# Drop the database if recreating from scratch\n",
    "# cosmos_client.drop_database(config['cosmos_database'])\n",
    "\n"
   ]
  },
  {
   "cell_type": "code",
   "execution_count": 5,
   "metadata": {},
   "outputs": [],
   "source": [
    "# Create the collections and indexes if they do not exist\n",
    "collection_names = [actual_ratings, predicted_ratings, product_catalog]\n",
    "\n",
    "# Iterate through the collection names and create them if they do not exist\n",
    "for collection_name in collection_names:\n",
    "    if collection_name not in database.list_collection_names():\n",
    "        # Creates a collection\n",
    "        database.create_collection(collection_name)\n",
    "        print(f\"Created collection '{collection_name}'.\")\n",
    "    else:\n",
    "        print(f\"Using existing collection: '{collection_name}'.\")\n",
    "\n",
    "\n",
    "# Create index for Type and Id in ProductCollection \n",
    "database.command({\n",
    "  'createIndexes': product_catalog,\n",
    "  'indexes': [\n",
    "    {\n",
    "      'key': {\n",
    "        'Type': 1,\n",
    "        'Id': 1\n",
    "      }\n",
    "    }\n",
    "  ]\n",
    "})\n",
    "\n",
    "\n",
    "# create vector index on ProductCollection\n",
    "database.command({\n",
    "  'createIndexes': product_catalog,\n",
    "  'indexes': [\n",
    "    {\n",
    "      'name': 'vectorSearchIndex',\n",
    "      'key': {\n",
    "        \"Embedding\": \"cosmosSearch\"\n",
    "      },\n",
    "      'cosmosSearchOptions': {\n",
    "        'kind': 'vector-hnsw',\n",
    "        'm': 16,\n",
    "        'efConstruction': 40,\n",
    "        'similarity': 'COS',\n",
    "        'dimensions': 1536\n",
    "      }\n",
    "    }\n",
    "  ]\n",
    "});"
   ]
  },
  {
   "cell_type": "code",
   "execution_count": 5,
   "metadata": {},
   "outputs": [
    {
     "name": "stdout",
     "output_type": "stream",
     "text": [
      "Number of data points added: 101 in ProductCollection\n"
     ]
    }
   ],
   "source": [
    "# load the product catalog data\n",
    "data_file = open(file=\"./data/catalog/catalog.json\", mode=\"r\") \n",
    "data = json.load(data_file)\n",
    "data_file.close()\n",
    "\n",
    "# Insert the data into the ProductCollection\n",
    "products = database[product_catalog]\n",
    "result = products.insert_many(data)\n",
    "\n",
    "print(f\"Number of data points added: {len(result.inserted_ids)} in {products.name}\")"
   ]
  },
  {
   "cell_type": "code",
   "execution_count": 4,
   "metadata": {},
   "outputs": [
    {
     "name": "stdout",
     "output_type": "stream",
     "text": [
      "Number of data points added: 200000 in ActualRating\n"
     ]
    }
   ],
   "source": [
    "# load the rating data\n",
    "data_file = open(file=\"./data/ratings/actualRatings.json\", mode=\"r\") \n",
    "data = json.load(data_file)\n",
    "data_file.close()\n",
    "\n",
    "actual_rating = db['ActualRating']\n",
    "\n",
    "result = actual_rating.insert_many(data)\n",
    "\n",
    "print(f\"Number of data points added: {len(result.inserted_ids)} in {actual_rating.name}\")"
   ]
  }
 ],
 "metadata": {
  "kernelspec": {
   "display_name": "Python 3",
   "language": "python",
   "name": "python3"
  },
  "language_info": {
   "codemirror_mode": {
    "name": "ipython",
    "version": 3
   },
   "file_extension": ".py",
   "mimetype": "text/x-python",
   "name": "python",
   "nbconvert_exporter": "python",
   "pygments_lexer": "ipython3",
   "version": "3.11.9"
  }
 },
 "nbformat": 4,
 "nbformat_minor": 2
}
